{
 "cells": [
  {
   "cell_type": "code",
   "execution_count": 23,
   "metadata": {},
   "outputs": [
    {
     "name": "stdout",
     "output_type": "stream",
     "text": [
      "{'a': 1, 'b': 2, 'c': 3, 'd': 4, 'e': 5, 'f': 6, 'g': 7, 'h': 8, 'i': 9, 'j': 10, 'k': 11, 'l': 12, 'm': 13, 'n': 14, 'o': 15, 'p': 16, 'q': 17, 'r': 18, 's': 19, 't': 20, 'u': 21, 'v': 22, 'w': 23, 'x': 24, 'y': 25}\n"
     ]
    }
   ],
   "source": [
    "from string import ascii_letters as letters \n",
    "import numpy as np \n",
    "\n",
    "nums = np.arange(1, 26)\n",
    "low_case = letters[:26]\n",
    "\n",
    "l2n = {l:n for l,n in zip(low_case,nums)}\n",
    "print(l2n)"
   ]
  },
  {
   "cell_type": "code",
   "execution_count": 24,
   "metadata": {},
   "outputs": [],
   "source": [
    "with open(\"words_alpha.txt\", 'r') as words_file:\n",
    "    word_list = words_file.readlines()\n",
    "\n",
    "words_by_len = {}\n",
    "for w_nl in word_list:\n",
    "    w = w_nl.strip('\\n')\n",
    "    l = len(w)\n",
    "    if l in words_by_len:\n",
    "        words_by_len[l].append(w)\n",
    "    else:\n",
    "        words_by_len[l] = [w]\n"
   ]
  },
  {
   "cell_type": "code",
   "execution_count": 28,
   "metadata": {},
   "outputs": [
    {
     "data": {
      "text/plain": [
       "array(['still', 'meant', 'fight'], dtype='<U5')"
      ]
     },
     "execution_count": 28,
     "metadata": {},
     "output_type": "execute_result"
    }
   ],
   "source": [
    "import matplotlib.pyplot as plt\n",
    "import seaborn as sns\n",
    "sns.set()\n",
    "plt.style.use('ggplot')\n",
    "np.random.seed(1)\n",
    "\n",
    "word_length = 5 \n",
    "\n",
    "np.random.choice(words_by_len[word_length], 3)\n",
    "\n"
   ]
  }
 ],
 "metadata": {
  "kernelspec": {
   "display_name": "Python 3.10.5 ('playground')",
   "language": "python",
   "name": "python3"
  },
  "language_info": {
   "codemirror_mode": {
    "name": "ipython",
    "version": 3
   },
   "file_extension": ".py",
   "mimetype": "text/x-python",
   "name": "python",
   "nbconvert_exporter": "python",
   "pygments_lexer": "ipython3",
   "version": "3.10.5"
  },
  "orig_nbformat": 4,
  "vscode": {
   "interpreter": {
    "hash": "bfb6be6a1e2928ff2d2ab7904db3c9037c4b5ca4f399bd5e7064365a54a3f091"
   }
  }
 },
 "nbformat": 4,
 "nbformat_minor": 2
}
